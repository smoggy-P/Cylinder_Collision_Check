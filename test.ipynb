{
 "cells": [
  {
   "cell_type": "code",
   "execution_count": null,
   "metadata": {},
   "outputs": [],
   "source": [
    "from collision_check import check_collision\n",
    "import numpy as np\n",
    "cylinder1 = {\n",
    "    \"direct\": np.array([1, 1, 1]),\n",
    "    \"center\": np.array([1, 0, 0]),\n",
    "    \"radius\": 1,\n",
    "    \"height\": 1\n",
    "}\n",
    "cylinder2 = {\n",
    "    \"direct\": np.array([0, 0, 1]),\n",
    "    \"center\": np.array([-0.75, -0.9, 0]),\n",
    "    \"radius\": 1,\n",
    "    \"height\": 1\n",
    "}\n",
    "print(check_collision(cylinder1, cylinder2))"
   ]
  },
  {
   "cell_type": "code",
   "execution_count": null,
   "metadata": {},
   "outputs": [],
   "source": [
    "import plotly.graph_objects as go\n",
    "import numpy as np\n",
    "\n",
    "def rotation_matrix_from_vectors(vec1, vec2):\n",
    "    \"\"\" Find the rotation matrix that aligns vec1 to vec2 \"\"\"\n",
    "    a, b = (vec1 / np.linalg.norm(vec1)).reshape(3), (vec2 / np.linalg.norm(vec2)).reshape(3)\n",
    "    v = np.cross(a, b)\n",
    "    c = np.dot(a, b)\n",
    "    s = np.linalg.norm(v)\n",
    "    if s == 0:\n",
    "        return np.eye(3)\n",
    "    kmat = np.array([[0, -v[2], v[1]], [v[2], 0, -v[0]], [-v[1], v[0], 0]])\n",
    "    return np.eye(3) + kmat + kmat.dot(kmat) * ((1 - c) / (s ** 2))\n",
    "\n",
    "def draw_cylinder(center, radius, height, direction, color='blue'):\n",
    "    objs = []  # Objects to add to the figure\n",
    "    h = height\n",
    "    direction = direction / np.linalg.norm(direction)  # Normalize direction vector\n",
    "    # Rotation matrix to align circle normal to the cylinder direction\n",
    "    rot_matrix = rotation_matrix_from_vectors(np.array([0, 0, 1]), direction)\n",
    "\n",
    "    # Generate cylinder surface\n",
    "    theta = np.linspace(0, 2 * np.pi, 100)\n",
    "    steps = 100  # Number of steps along the cylinder's height\n",
    "    for step in np.linspace(-0.5, 0.5, steps):\n",
    "        circle_x = radius * np.cos(theta)\n",
    "        circle_y = radius * np.sin(theta)\n",
    "        circle_z = np.zeros_like(theta)  # Initially, circles are in the xy-plane\n",
    "        circle_points = np.vstack((circle_x, circle_y, circle_z)).T\n",
    "        circle_points = circle_points @ rot_matrix.T  # Apply rotation\n",
    "        circle_points += center + direction * step * h  # Translate to position\n",
    "\n",
    "        cylinder_surface = go.Scatter3d(x=circle_points[:, 0], y=circle_points[:, 1], z=circle_points[:, 2],\n",
    "                                        mode='lines', line=dict(width=2, color=color),\n",
    "                                        showlegend=False)\n",
    "        objs.append(cylinder_surface)\n",
    "    return objs\n",
    "\n",
    "\n",
    "\n",
    "cylinder1_vis = draw_cylinder(cylinder1[\"center\"], cylinder1[\"radius\"], cylinder1[\"height\"], cylinder1[\"direct\"], color='red')\n",
    "cylinder2_vis = draw_cylinder(cylinder2[\"center\"], cylinder2[\"radius\"], cylinder2[\"height\"], cylinder2[\"direct\"])\n",
    "fig = go.Figure(data = [*cylinder1_vis, *cylinder2_vis])\n",
    "# Update layout\n",
    "fig.update_layout(scene=dict(aspectmode='data'), title=\"Cylinders Visualization with Plotly\")\n",
    "fig.show()\n",
    "\n"
   ]
  },
  {
   "cell_type": "code",
   "execution_count": null,
   "metadata": {},
   "outputs": [],
   "source": []
  }
 ],
 "metadata": {
  "kernelspec": {
   "display_name": "autoDesign",
   "language": "python",
   "name": "python3"
  },
  "language_info": {
   "codemirror_mode": {
    "name": "ipython",
    "version": 3
   },
   "file_extension": ".py",
   "mimetype": "text/x-python",
   "name": "python",
   "nbconvert_exporter": "python",
   "pygments_lexer": "ipython3",
   "version": "3.7.1"
  }
 },
 "nbformat": 4,
 "nbformat_minor": 2
}
